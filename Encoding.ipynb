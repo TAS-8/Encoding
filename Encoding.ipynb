{
 "cells": [
  {
   "cell_type": "code",
   "execution_count": 1,
   "metadata": {},
   "outputs": [
    {
     "name": "stdout",
     "output_type": "stream",
     "text": [
      "Original DataFrame:\n",
      "   Color\n",
      "0    Red\n",
      "1  Green\n",
      "2   Blue\n",
      "3  Green\n",
      "4    Red\n",
      "\n",
      "One-Hot Encoded DataFrame:\n",
      "   Color_Blue  Color_Green  Color_Red\n",
      "0       False        False       True\n",
      "1       False         True      False\n",
      "2        True        False      False\n",
      "3       False         True      False\n",
      "4       False        False       True\n"
     ]
    }
   ],
   "source": [
    "#One Hot Encoding\n",
    "#Creates binary columns (0s and 1s) for each category in a feature.\n",
    "#Each category gets its own column with a \"1\" indicating its presence.\n",
    "#Common for non-ordinal categorical data without an inherent order, like color, city, etc.\n",
    "import pandas as pd\n",
    "\n",
    "#Sample data with a categorical feature \"Color\"\n",
    "data = {'Color': ['Red', 'Green', 'Blue', 'Green', 'Red']}\n",
    "df = pd.DataFrame(data)\n",
    "\n",
    "# Display the original DataFrame\n",
    "print(\"Original DataFrame:\")\n",
    "print(df)\n",
    "\n",
    "# Apply One-Hot Encoding\n",
    "df_encoded = pd.get_dummies(df, columns=['Color'], prefix='Color')\n",
    "#automatically creates a new column for each unique value in the specified categorical column\n",
    "\n",
    "# Display the one-hot encoded DataFrame\n",
    "print(\"\\nOne-Hot Encoded DataFrame:\")\n",
    "print(df_encoded)\n"
   ]
  },
  {
   "cell_type": "code",
   "execution_count": 2,
   "metadata": {},
   "outputs": [
    {
     "name": "stdout",
     "output_type": "stream",
     "text": [
      "Original DataFrame:\n",
      "   Color\n",
      "0    Red\n",
      "1  Green\n",
      "2   Blue\n",
      "3  Green\n",
      "4    Red\n",
      "\n",
      "Label Encoded DataFrame:\n",
      "   Color  Color_Encoded\n",
      "0    Red              2\n",
      "1  Green              1\n",
      "2   Blue              0\n",
      "3  Green              1\n",
      "4    Red              2\n"
     ]
    }
   ],
   "source": [
    "#Label Encoding\n",
    "#Assigns a unique integer to each category in a feature.\n",
    "#Often used with ordinal features where the categories have an inherent order (like low, medium, high).\n",
    "import pandas as pd\n",
    "from sklearn.preprocessing import LabelEncoder\n",
    "#Using the same sample dataframe as before\n",
    "# Display the original DataFrame\n",
    "print(\"Original DataFrame:\")\n",
    "print(df)\n",
    "\n",
    "#Initialize the Label Encoder\n",
    "label_encoder = LabelEncoder()\n",
    "#used to convert categorical labels into integers.\n",
    "\n",
    "#Apply Label Encoding\n",
    "df['Color_Encoded'] = label_encoder.fit_transform(df['Color'])\n",
    "\n",
    "#Display the DataFrame with the encoded column\n",
    "print(\"\\nLabel Encoded DataFrame:\")\n",
    "print(df)"
   ]
  },
  {
   "cell_type": "code",
   "execution_count": 4,
   "metadata": {},
   "outputs": [
    {
     "name": "stdout",
     "output_type": "stream",
     "text": [
      "Original DataFrame:\n",
      "   Color\n",
      "0    Red\n",
      "1  Green\n",
      "2   Blue\n",
      "3  Green\n",
      "4    Red\n",
      "5    Red\n",
      "6   Blue\n",
      "7  Green\n",
      "\n",
      "Frequency Encoded DataFrame:\n",
      "   Color  Color_Frequency\n",
      "0    Red                3\n",
      "1  Green                3\n",
      "2   Blue                2\n",
      "3  Green                3\n",
      "4    Red                3\n",
      "5    Red                3\n",
      "6   Blue                2\n",
      "7  Green                3\n"
     ]
    }
   ],
   "source": [
    "#Frequency Encoding\n",
    "#A technique that replaces categorical values with their frequency counts in the dataset\n",
    "import pandas as pd\n",
    "\n",
    "# Sample data with a categorical feature \"Color\"\n",
    "data = {'Color': ['Red', 'Green', 'Blue', 'Green', 'Red', 'Red', 'Blue', 'Green']}\n",
    "df = pd.DataFrame(data)\n",
    "\n",
    "# Display the original DataFrame\n",
    "print(\"Original DataFrame:\")\n",
    "print(df)\n",
    "\n",
    "frequency_counts = df['Color'].value_counts()  # Count frequencies\n",
    "df['Color_Frequency'] = df['Color'].map(frequency_counts)  # Map frequencies to the original DataFrame\n",
    "\n",
    "# Display the DataFrame with the frequency encoded column\n",
    "print(\"\\nFrequency Encoded DataFrame:\")\n",
    "print(df)"
   ]
  }
 ],
 "metadata": {
  "kernelspec": {
   "display_name": "Python 3",
   "language": "python",
   "name": "python3"
  },
  "language_info": {
   "codemirror_mode": {
    "name": "ipython",
    "version": 3
   },
   "file_extension": ".py",
   "mimetype": "text/x-python",
   "name": "python",
   "nbconvert_exporter": "python",
   "pygments_lexer": "ipython3",
   "version": "3.13.0"
  }
 },
 "nbformat": 4,
 "nbformat_minor": 2
}
