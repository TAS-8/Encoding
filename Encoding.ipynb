{
 "cells": [
  {
   "cell_type": "code",
   "execution_count": 1,
   "metadata": {},
   "outputs": [
    {
     "name": "stdout",
     "output_type": "stream",
     "text": [
      "Original DataFrame:\n",
      "   Color\n",
      "0    Red\n",
      "1  Green\n",
      "2   Blue\n",
      "3  Green\n",
      "4    Red\n",
      "\n",
      "One-Hot Encoded DataFrame:\n",
      "   Color_Blue  Color_Green  Color_Red\n",
      "0       False        False       True\n",
      "1       False         True      False\n",
      "2        True        False      False\n",
      "3       False         True      False\n",
      "4       False        False       True\n"
     ]
    }
   ],
   "source": [
    "#One Hot Encoding\n",
    "#Creates binary columns (0s and 1s) for each category in a feature.\n",
    "#Each category gets its own column with a \"1\" indicating its presence.\n",
    "#Common for non-ordinal categorical data without an inherent order, like color, city, etc.\n",
    "import pandas as pd\n",
    "\n",
    "#Sample data with a categorical feature \"Color\"\n",
    "data = {'Color': ['Red', 'Green', 'Blue', 'Green', 'Red']}\n",
    "df = pd.DataFrame(data)\n",
    "\n",
    "# Display the original DataFrame\n",
    "print(\"Original DataFrame:\")\n",
    "print(df)\n",
    "\n",
    "# Apply One-Hot Encoding\n",
    "df_encoded = pd.get_dummies(df, columns=['Color'], prefix='Color')\n",
    "#automatically creates a new column for each unique value in the specified categorical column\n",
    "\n",
    "# Display the one-hot encoded DataFrame\n",
    "print(\"\\nOne-Hot Encoded DataFrame:\")\n",
    "print(df_encoded)\n"
   ]
  },
  {
   "cell_type": "code",
   "execution_count": 2,
   "metadata": {},
   "outputs": [
    {
     "name": "stdout",
     "output_type": "stream",
     "text": [
      "Original DataFrame:\n",
      "   Color\n",
      "0    Red\n",
      "1  Green\n",
      "2   Blue\n",
      "3  Green\n",
      "4    Red\n",
      "\n",
      "Label Encoded DataFrame:\n",
      "   Color  Color_Encoded\n",
      "0    Red              2\n",
      "1  Green              1\n",
      "2   Blue              0\n",
      "3  Green              1\n",
      "4    Red              2\n"
     ]
    }
   ],
   "source": [
    "#Label Encoding\n",
    "#Assigns a unique integer to each category in a feature.\n",
    "#Often used with ordinal features where the categories have an inherent order (like low, medium, high).\n",
    "import pandas as pd\n",
    "from sklearn.preprocessing import LabelEncoder\n",
    "#Using the same sample dataframe as before\n",
    "# Display the original DataFrame\n",
    "print(\"Original DataFrame:\")\n",
    "print(df)\n",
    "\n",
    "#Initialize the Label Encoder\n",
    "label_encoder = LabelEncoder()\n",
    "#used to convert categorical labels into integers.\n",
    "\n",
    "#Apply Label Encoding\n",
    "df['Color_Encoded'] = label_encoder.fit_transform(df['Color'])\n",
    "\n",
    "#Display the DataFrame with the encoded column\n",
    "print(\"\\nLabel Encoded DataFrame:\")\n",
    "print(df)"
   ]
  },
  {
   "cell_type": "code",
   "execution_count": 4,
   "metadata": {},
   "outputs": [
    {
     "name": "stdout",
     "output_type": "stream",
     "text": [
      "Original DataFrame:\n",
      "   Color\n",
      "0    Red\n",
      "1  Green\n",
      "2   Blue\n",
      "3  Green\n",
      "4    Red\n",
      "5    Red\n",
      "6   Blue\n",
      "7  Green\n",
      "\n",
      "Frequency Encoded DataFrame:\n",
      "   Color  Color_Frequency\n",
      "0    Red                3\n",
      "1  Green                3\n",
      "2   Blue                2\n",
      "3  Green                3\n",
      "4    Red                3\n",
      "5    Red                3\n",
      "6   Blue                2\n",
      "7  Green                3\n"
     ]
    }
   ],
   "source": [
    "#Frequency Encoding\n",
    "#A technique that replaces categorical values with their frequency counts in the dataset\n",
    "import pandas as pd\n",
    "\n",
    "# Sample data with a categorical feature \"Color\"\n",
    "data = {'Color': ['Red', 'Green', 'Blue', 'Green', 'Red', 'Red', 'Blue', 'Green']}\n",
    "df = pd.DataFrame(data)\n",
    "\n",
    "# Display the original DataFrame\n",
    "print(\"Original DataFrame:\")\n",
    "print(df)\n",
    "\n",
    "frequency_counts = df['Color'].value_counts()  # Count frequencies\n",
    "df['Color_Frequency'] = df['Color'].map(frequency_counts)  # Map frequencies to the original DataFrame\n",
    "\n",
    "# Display the DataFrame with the frequency encoded column\n",
    "print(\"\\nFrequency Encoded DataFrame:\")\n",
    "print(df)"
   ]
  },
  {
   "cell_type": "code",
   "execution_count": 6,
   "metadata": {},
   "outputs": [
    {
     "name": "stdout",
     "output_type": "stream",
     "text": [
      "Original DataFrame:\n",
      "   Color  Price\n",
      "0    Red     10\n",
      "1  Green     20\n",
      "2   Blue     15\n",
      "3  Green     25\n",
      "4    Red     30\n",
      "5    Red     10\n",
      "6   Blue     20\n",
      "7  Green     30\n",
      "\n",
      "Target Encoded DataFrame:\n",
      "   Color  Price  Color_Target_Encoded\n",
      "0    Red     10                 16.67\n",
      "1  Green     20                 25.00\n",
      "2   Blue     15                 17.50\n",
      "3  Green     25                 25.00\n",
      "4    Red     30                 16.67\n",
      "5    Red     10                 16.67\n",
      "6   Blue     20                 17.50\n",
      "7  Green     30                 25.00\n"
     ]
    }
   ],
   "source": [
    "#Target Encoding\n",
    "#Replaces each category with the mean of the target variable for that category.\n",
    "import pandas as pd\n",
    "\n",
    "# Sample data\n",
    "data = {\n",
    "    'Color': ['Red', 'Green', 'Blue', 'Green', 'Red', 'Red', 'Blue', 'Green'],\n",
    "    'Price': [10, 20, 15, 25, 30, 10, 20, 30]\n",
    "}\n",
    "df = pd.DataFrame(data)\n",
    "\n",
    "# Display the original DataFrame\n",
    "print(\"Original DataFrame:\")\n",
    "print(df)\n",
    "\n",
    "# Calculate the mean price for each category in 'Color'\n",
    "mean_price = round(df.groupby('Color')['Price'].mean(),2)\n",
    "\n",
    "# Map the mean price back to the original DataFrame\n",
    "df['Color_Target_Encoded'] = df['Color'].map(mean_price)\n",
    "\n",
    "# Display the DataFrame with the target encoded column\n",
    "print(\"\\nTarget Encoded DataFrame:\")\n",
    "print(df)\n"
   ]
  }
 ],
 "metadata": {
  "kernelspec": {
   "display_name": "Python 3",
   "language": "python",
   "name": "python3"
  },
  "language_info": {
   "codemirror_mode": {
    "name": "ipython",
    "version": 3
   },
   "file_extension": ".py",
   "mimetype": "text/x-python",
   "name": "python",
   "nbconvert_exporter": "python",
   "pygments_lexer": "ipython3",
   "version": "3.13.0"
  }
 },
 "nbformat": 4,
 "nbformat_minor": 2
}
